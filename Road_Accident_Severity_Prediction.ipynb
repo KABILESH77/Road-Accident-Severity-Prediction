{
  "nbformat": 4,
  "nbformat_minor": 0,
  "metadata": {
    "colab": {
      "provenance": [],
      "authorship_tag": "ABX9TyN1XHLU7nKiTh8qFDMINfQK",
      "include_colab_link": true
    },
    "kernelspec": {
      "name": "python3",
      "display_name": "Python 3"
    },
    "language_info": {
      "name": "python"
    }
  },
  "cells": [
    {
      "cell_type": "markdown",
      "metadata": {
        "id": "view-in-github",
        "colab_type": "text"
      },
      "source": [
        "<a href=\"https://colab.research.google.com/github/KABILESH77/Road-Accident-Severity-Prediction/blob/main/Road_Accident_Severity_Prediction.ipynb\" target=\"_parent\"><img src=\"https://colab.research.google.com/assets/colab-badge.svg\" alt=\"Open In Colab\"/></a>"
      ]
    },
    {
      "cell_type": "code",
      "source": [
        "from google.colab import drive\n",
        "drive.mount('/content/drive')"
      ],
      "metadata": {
        "id": "_3RzrK86HXbV"
      },
      "execution_count": null,
      "outputs": []
    },
    {
      "cell_type": "code",
      "execution_count": null,
      "metadata": {
        "id": "KyEX08YhEZw6"
      },
      "outputs": [],
      "source": [
        "import pandas as pd\n",
        "import numpy as np\n",
        "from sklearn.model_selection import train_test_split\n",
        "from sklearn.preprocessing import LabelEncoder\n",
        "from sklearn.linear_model import LogisticRegression\n",
        "from sklearn.metrics import  accuracy_score\n",
        "from sklearn.metrics import confusion_matrix\n",
        "from sklearn.metrics import precision_score\n",
        "from sklearn import metrics\n",
        "import plotly.express as ps\n",
        "from sklearn.tree import DecisionTreeClassifier\n"
      ]
    },
    {
      "cell_type": "code",
      "source": [
        "df = pd.read_csv(\"/content/drive/MyDrive/RTA Dataset.csv\")"
      ],
      "metadata": {
        "id": "M9NxNuUyHmWX"
      },
      "execution_count": null,
      "outputs": []
    },
    {
      "cell_type": "code",
      "source": [
        "df.head()"
      ],
      "metadata": {
        "id": "p-3pJ_XoHrwD"
      },
      "execution_count": null,
      "outputs": []
    },
    {
      "cell_type": "code",
      "source": [
        "df.tail()"
      ],
      "metadata": {
        "id": "p4NGh9JFHttw"
      },
      "execution_count": null,
      "outputs": []
    },
    {
      "cell_type": "code",
      "source": [
        "df.isnull().sum()"
      ],
      "metadata": {
        "id": "UJy6q21fHvla"
      },
      "execution_count": null,
      "outputs": []
    },
    {
      "cell_type": "code",
      "source": [
        "df.shape"
      ],
      "metadata": {
        "id": "A6H6vM-5IlTg"
      },
      "execution_count": null,
      "outputs": []
    },
    {
      "cell_type": "code",
      "source": [
        "df.describe()"
      ],
      "metadata": {
        "id": "YVpQ2m9vJ4H7"
      },
      "execution_count": null,
      "outputs": []
    },
    {
      "cell_type": "code",
      "source": [
        "ps.histogram(df,df['Day_of_week'],df['Number_of_casualties'],color='Day_of_week',template='ggplot2')\n"
      ],
      "metadata": {
        "id": "Yw6N6xPsqaP2"
      },
      "execution_count": null,
      "outputs": []
    },
    {
      "cell_type": "code",
      "source": [
        "import matplotlib.pyplot as plt\n",
        "from sklearn.metrics import confusion_matrix\n",
        "import seaborn as sns\n",
        "\n",
        "# Create the confusion matrix\n",
        "cm = confusion_matrix(y_test, y_pred)\n",
        "\n",
        "# Plot the confusion matrix\n",
        "plt.figure(figsize=(8, 6))\n",
        "sns.heatmap(cm, annot=True, cmap='Blues', fmt='g',\n",
        "            xticklabels=range(3), yticklabels=range(3))\n",
        "plt.xlabel('Predicted')\n",
        "plt.ylabel('True')\n",
        "plt.title('Confusion Matrix')\n",
        "plt.show()\n"
      ],
      "metadata": {
        "id": "PGZ3WS05Bm1X"
      },
      "execution_count": null,
      "outputs": []
    },
    {
      "cell_type": "markdown",
      "source": [
        "REMOVING IRRELEVANT COLUMNS"
      ],
      "metadata": {
        "id": "jj_Y0Yc5KWe5"
      }
    },
    {
      "cell_type": "code",
      "source": [
        "df.drop(['Time','Driving_experience','Type_of_vehicle','Educational_level'],axis=1,inplace=True)\n",
        "df.drop(['Vehicle_driver_relation','Lanes_or_Medians','Owner_of_vehicle','Area_accident_occured','Road_allignment',\n",
        "         'Types_of_Junction','Light_conditions','Weather_conditions','Vehicle_movement','Fitness_of_casuality',\n",
        "        'Vehicle_movement','Age_band_of_driver','Sex_of_driver'],axis=1,inplace=True)\n",
        "df.drop(['Pedestrian_movement','Cause_of_accident','Work_of_casuality','Road_surface_conditions'],axis=1,inplace=True)\n",
        "df.drop(['Service_year_of_vehicle','Defect_of_vehicle'],axis=1,inplace=True)"
      ],
      "metadata": {
        "id": "D5Nh-HG8LbBl"
      },
      "execution_count": null,
      "outputs": []
    },
    {
      "cell_type": "code",
      "source": [
        "column_names = df.columns.tolist()\n",
        "print(column_names)"
      ],
      "metadata": {
        "id": "BprCH6d-KWEQ"
      },
      "execution_count": null,
      "outputs": []
    },
    {
      "cell_type": "markdown",
      "source": [
        "using label encoding"
      ],
      "metadata": {
        "id": "bDhG0GoQkuwe"
      }
    },
    {
      "cell_type": "code",
      "source": [
        "for i in df.columns:\n",
        "    if df[i].dtypes== object:\n",
        "        print(i)\n",
        "        print(df[i].unique())\n",
        "        print(df[i].nunique())\n",
        "        print()"
      ],
      "metadata": {
        "id": "2il7JpWAkR0y"
      },
      "execution_count": null,
      "outputs": []
    },
    {
      "cell_type": "code",
      "source": [
        "l = LabelEncoder()\n",
        "for col in df.columns:\n",
        "    if df[col].dtype == object:\n",
        "        df[col] = l.fit_transform(df[col])"
      ],
      "metadata": {
        "id": "uk3Mk9kfkSjJ"
      },
      "execution_count": null,
      "outputs": []
    },
    {
      "cell_type": "code",
      "source": [
        "x=df.drop('Accident_severity',axis=1)\n",
        "y=df['Accident_severity']"
      ],
      "metadata": {
        "id": "Y5clqVgWmgxi"
      },
      "execution_count": null,
      "outputs": []
    },
    {
      "cell_type": "code",
      "source": [
        "x"
      ],
      "metadata": {
        "id": "V04R-ldlmscl"
      },
      "execution_count": null,
      "outputs": []
    },
    {
      "cell_type": "code",
      "source": [
        "y"
      ],
      "metadata": {
        "id": "77I82HNNtgb9"
      },
      "execution_count": null,
      "outputs": []
    },
    {
      "cell_type": "markdown",
      "source": [
        "splitting dataset into training and testing"
      ],
      "metadata": {
        "id": "UViHSnJonkFP"
      }
    },
    {
      "cell_type": "code",
      "source": [
        "x_train,x_test,y_train,y_test = train_test_split(x,y,test_size=0.30)"
      ],
      "metadata": {
        "id": "_sHWbfBtmtJw"
      },
      "execution_count": null,
      "outputs": []
    },
    {
      "cell_type": "code",
      "source": [
        "from sklearn.preprocessing import MinMaxScaler\n",
        "mms=MinMaxScaler(feature_range=(0,1))\n",
        "x_train=mms.fit_transform(x_train)\n",
        "x_test=mms.fit_transform(x_test)\n",
        "x_train=pd.DataFrame(x_train)\n",
        "x_test=pd.DataFrame(x_test)"
      ],
      "metadata": {
        "id": "pxRvcC2_r_vD"
      },
      "execution_count": null,
      "outputs": []
    },
    {
      "cell_type": "markdown",
      "source": [
        "logiistic regression"
      ],
      "metadata": {
        "id": "K7B3_SITx2An"
      }
    },
    {
      "cell_type": "code",
      "source": [
        "model = LogisticRegression()\n",
        "model.fit(x_train,y_train)"
      ],
      "metadata": {
        "id": "hBjiIupynoaZ"
      },
      "execution_count": null,
      "outputs": []
    },
    {
      "cell_type": "code",
      "source": [
        "predict = model.predict(x_test)\n",
        "print(predict)\n",
        "accuracy = accuracy_score(predict,y_test)\n",
        "print(accuracy)"
      ],
      "metadata": {
        "id": "WEn_76w74FOT"
      },
      "execution_count": null,
      "outputs": []
    },
    {
      "cell_type": "markdown",
      "source": [
        "random forest"
      ],
      "metadata": {
        "id": "jDtdwEjNx4QX"
      }
    },
    {
      "cell_type": "code",
      "source": [
        "from sklearn.ensemble import RandomForestClassifier\n",
        "from sklearn.model_selection import GridSearchCV\n",
        "rf = RandomForestClassifier()\n",
        "rf.fit(x_train,y_train)\n",
        "\n",
        "y_pred=rf.predict(x_test)\n",
        "\n",
        "print('-----------------------------------------------------------------------------------------------------------------------')\n",
        "from sklearn.metrics import confusion_matrix\n",
        "from sklearn.metrics import classification_report\n",
        "from sklearn.metrics import accuracy_score,recall_score,f1_score,precision_score\n",
        "\n",
        "print('confusion matrix :',confusion_matrix(y_test,y_pred))\n",
        "print('classification report:',classification_report(y_test,y_pred))\n",
        "print('accuracy :',round(accuracy_score(y_test,y_pred),2))\n",
        "print('precision :',round(precision_score(y_test,y_pred,average='weighted'),2))\n",
        "print('recall :',round(recall_score(y_test,y_pred,average='weighted'),2))\n",
        "print('f1 :',round(f1_score(y_test,y_pred,average='weighted'),2))\n",
        "print()"
      ],
      "metadata": {
        "id": "xAHQ6-lD4XhK"
      },
      "execution_count": null,
      "outputs": []
    },
    {
      "cell_type": "code",
      "source": [
        "model2 = DecisionTreeClassifier()\n",
        "model2.fit(x_train,y_train)"
      ],
      "metadata": {
        "id": "TDagDOkJyMHk"
      },
      "execution_count": null,
      "outputs": []
    },
    {
      "cell_type": "code",
      "source": [
        "predict2 = model2.predict(x_test)\n",
        "accuracy2 = accuracy_score(predict2,y_test)\n",
        "print(accuracy2)"
      ],
      "metadata": {
        "id": "BipkdxpUyoya"
      },
      "execution_count": null,
      "outputs": []
    },
    {
      "cell_type": "markdown",
      "source": [
        "predictive mechanism"
      ],
      "metadata": {
        "id": "VbzFpfQA7JcO"
      }
    },
    {
      "cell_type": "markdown",
      "source": [
        "user input datas:\n"
      ],
      "metadata": {
        "id": "PKUkpok37dBE"
      }
    },
    {
      "cell_type": "code",
      "source": [
        "\n",
        "features = {}\n",
        "\n",
        "features[\"Day_of_week\"] = int(input(\"Enter Day_of_week: \"))\n",
        "features[\"Road_surface_type\"] = int(input(\"Enter Road_surface_type: \"))\n",
        "features[\"Type_of_collision\"] = int(input(\"Enter Type_of_collision: \"))\n",
        "features[\"Number_of_vehicles_involved\"] = int(input(\"Enter Number_of_vehicles_involved: \"))\n",
        "features[\"Number_of_casualties\"] = int(input(\"Enter Number_of_casualties: \"))\n",
        "features[\"Casualty_class\"] = int(input(\"Enter Casualty_class: \"))\n",
        "features[\"Sex_of_casualty\"] = int(input(\"Enter Sex_of_casualty: \"))\n",
        "features[\"Age_band_of_casualty\"] = int(input(\"Enter Age_band_of_casualty: \"))\n",
        "features[\"Casualty_severity\"] = int(input(\"Enter Casualty_severity: \"))\n",
        "\n",
        "ip_array = np.array([[value for key, value in features.items()]])\n",
        "prediction = model.predict(ip_array)\n",
        "print(prediction)\n"
      ],
      "metadata": {
        "id": "MFwqLaJD5_0L"
      },
      "execution_count": null,
      "outputs": []
    },
    {
      "cell_type": "markdown",
      "source": [
        "3\n",
        "visual representations"
      ],
      "metadata": {
        "id": "7tfmFfGEiAa1"
      }
    },
    {
      "cell_type": "markdown",
      "source": [],
      "metadata": {
        "id": "CaHd4ynno4Qv"
      }
    }
  ]
}